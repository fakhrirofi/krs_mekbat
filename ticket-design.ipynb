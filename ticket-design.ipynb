{
 "cells": [
  {
   "cell_type": "code",
   "execution_count": 2,
   "metadata": {},
   "outputs": [],
   "source": [
    "import math\n",
    "import qrcode\n",
    "from PIL import Image, ImageDraw, ImageFont"
   ]
  },
  {
   "cell_type": "code",
   "execution_count": 3,
   "metadata": {},
   "outputs": [],
   "source": [
    "def get_qr_code():\n",
    "    image = Image.open('assets/qr_code_attendance_ymcc.jpg')\n",
    "    return image"
   ]
  },
  {
   "cell_type": "code",
   "execution_count": 4,
   "metadata": {},
   "outputs": [],
   "source": [
    "def write_text(draw: ImageDraw, rectang, text, position, size, align=\"left\", fill=\"#000000\", bold=False, align_right=100):\n",
    "    \"\"\"\n",
    "    pos = (x, y)\n",
    "    size = text size in pixel\n",
    "    align = 'left', 'center', 'right\n",
    "    \"\"\"\n",
    "    w, h = rectang\n",
    "\n",
    "    # Text Font\n",
    "    font =  lambda x: ImageFont.truetype('assets/Poppins-Regular.ttf', round(x * 4.1))\n",
    "    font_bold = lambda x: ImageFont.truetype('assets/Poppins-Bold.ttf', round(x * 4.1))\n",
    "    txt = text\n",
    "    txtf = font_bold(size) if (bold == True) else font(size)\n",
    "\n",
    "    # Text align\n",
    "    x, y = position\n",
    "    txt_posy = y\n",
    "    txt_length = txtf.getlength(text)\n",
    "    if align == \"left\":\n",
    "        txt_posx = x\n",
    "    elif align == \"center\":\n",
    "        txt_posx = (w / 2) - (txt_length / 2)\n",
    "    elif align == \"right\":\n",
    "        txt_posx = align_right - txt_length\n",
    "\n",
    "    draw.text(\n",
    "        (txt_posx, txt_posy),\n",
    "        txt, fill=fill, font=txtf\n",
    "    )"
   ]
  },
  {
   "cell_type": "code",
   "execution_count": 6,
   "metadata": {},
   "outputs": [],
   "source": [
    "w, h = 1050, 1350\n",
    "\n",
    "# create rectangle\n",
    "img = Image.new(\"RGBA\", (w, h))\n",
    "draw = ImageDraw.Draw(img)\n",
    "draw.rectangle([(0, 0), (w, h)], fill=\"#FFFFFF\")\n",
    "\n",
    "# write text\n",
    "write_text(draw, (w, h), \"Laboratorium Mekanika Batuan\", (0, 100), size=12, align=\"center\", bold=True)\n",
    "write_text(draw, (w, h), \"UPN \\\"Veteran\\\" Yogyakarta\", (0, 160), size=11, align=\"center\", bold=True)\n",
    "write_text(draw, (w, h), \"Fakhri Catur Rofi\", (0, 995), size=10, align=\"center\", bold=True)\n",
    "# write_text(draw, (w, h), 'Ruang Seminar FTM, UPN \"Veteran\" Yogyakarta aa', (0, 1031), size=9, align=\"center\", bold=False)\n",
    "write_text(draw, (w, h), '112210024', (0, 1045), size=10, align=\"center\", bold=True)\n",
    "\n",
    "write_text(draw, (w, h), 'Kelompok 1', (60, 1145), size=8, align=\"left\", bold=False)\n",
    "write_text(draw, (w, h), 'Senin 7.00 - 9.00', (60, 1190), size=8, align=\"left\", bold=False)\n",
    "write_text(draw, (w, h), '#001', (0, 1145), size=8, align=\"right\", align_right=988, bold=False)\n",
    "\n",
    "# paste qr code\n",
    "qr = get_qr_code()\n",
    "qr = qr.resize((716, 716), Image.LANCZOS)\n",
    "img.paste(qr, (166, 240))\n",
    "\n",
    "# add line\n",
    "line = Image.open('assets/line.jpg')\n",
    "img.paste(line, (60, 977))\n",
    "img.paste(line, (60, 1112))\n",
    "\n",
    "img.show()"
   ]
  },
  {
   "cell_type": "code",
   "execution_count": 131,
   "metadata": {},
   "outputs": [
    {
     "data": {
      "text/plain": [
       "42"
      ]
     },
     "execution_count": 131,
     "metadata": {},
     "output_type": "execute_result"
    }
   ],
   "source": [
    "a = \"Seminar Nasional 1 aaaaaaaaaa kajlk kjaslk\"\n",
    "len(a)"
   ]
  },
  {
   "cell_type": "code",
   "execution_count": 138,
   "metadata": {},
   "outputs": [
    {
     "data": {
      "text/plain": [
       "'12askj3'"
      ]
     },
     "execution_count": 138,
     "metadata": {},
     "output_type": "execute_result"
    }
   ],
   "source": [
    "\"12askj3\".zfill(5)"
   ]
  }
 ],
 "metadata": {
  "kernelspec": {
   "display_name": "Python 3",
   "language": "python",
   "name": "python3"
  },
  "language_info": {
   "codemirror_mode": {
    "name": "ipython",
    "version": 3
   },
   "file_extension": ".py",
   "mimetype": "text/x-python",
   "name": "python",
   "nbconvert_exporter": "python",
   "pygments_lexer": "ipython3",
   "version": "3.10.9"
  },
  "orig_nbformat": 4,
  "vscode": {
   "interpreter": {
    "hash": "77b9156ed7ca9a23540f6a2d87cd7887d03f0a8cd2f39ebff9092cfd372188e4"
   }
  }
 },
 "nbformat": 4,
 "nbformat_minor": 2
}
